{
  "nbformat": 4,
  "nbformat_minor": 0,
  "metadata": {
    "colab": {
      "name": "Script MolRNN",
      "provenance": [],
      "collapsed_sections": [
        "W7W_WbLoH1Z_",
        "pGO589y9H6zX"
      ]
    },
    "kernelspec": {
      "display_name": "Python 3",
      "name": "python3"
    },
    "accelerator": "GPU"
  },
  "cells": [
    {
      "cell_type": "markdown",
      "metadata": {
        "id": "W7W_WbLoH1Z_"
      },
      "source": [
        "## Drive Loading..."
      ]
    },
    {
      "cell_type": "code",
      "metadata": {
        "id": "K5wFWddJGEMM"
      },
      "source": [
        "from google.colab import drive\n",
        "drive.mount(\"/content/drive\")\n",
        "% cd '/content/drive/MyDrive/Università/Models/MolRNN'\n",
        "! ls\n",
        "! nvidia-smi"
      ],
      "execution_count": null,
      "outputs": []
    },
    {
      "cell_type": "markdown",
      "metadata": {
        "id": "pGO589y9H6zX"
      },
      "source": [
        "## Environment Setup"
      ]
    },
    {
      "cell_type": "code",
      "metadata": {
        "id": "uyfFc8VufUyl"
      },
      "source": [
        "################################################################################\n",
        "# INSTALL CONDA ON GOOGLE COLAB\n",
        "################################################################################\n",
        "import os\n",
        "import sys\n",
        "if not os.path.exists('Miniconda3-py37_4.8.2-Linux-x86_64.sh'):\n",
        "    ! wget https://repo.anaconda.com/miniconda/Miniconda3-py37_4.8.2-Linux-x86_64.sh\n",
        "! chmod +x Miniconda3-py37_4.8.2-Linux-x86_64.sh\n",
        "! bash ./Miniconda3-py37_4.8.2-Linux-x86_64.sh -b -f -p /usr/local\n",
        "sys.path.append('/usr/local/lib/python3.7/site-packages/')\n",
        "! python --version\n",
        "\n",
        "# Add channels\n",
        "! conda config --add channels conda-forge \n",
        "! conda config --add channels anaconda \n",
        "! conda config --add channels rdkit \n",
        "! conda config --show channels"
      ],
      "execution_count": null,
      "outputs": []
    },
    {
      "cell_type": "code",
      "metadata": {
        "id": "2tHPDYRiriEG"
      },
      "source": [
        "# Install CUDA version 9.2\n",
        "% cd /usr/local/\n",
        "! pwd\n",
        "! ls\n",
        "!wget https://developer.nvidia.com/compute/cuda/9.2/Prod/local_installers/cuda-repo-ubuntu1604-9-2-local_9.2.88-1_amd64 -O cuda-repo-ubuntu1604–9–2-local_9.2.88–1_amd64.deb\n",
        "!dpkg -i cuda-repo-ubuntu1604–9–2-local_9.2.88–1_amd64.deb\n",
        "!apt-key add /var/cuda-repo-9–2-local/7fa2af80.pub\n",
        "!apt-get update\n",
        "!apt-get install cuda-9.2\n",
        "! ls\n",
        "!rm -rf cuda\n",
        "!ln -s /usr/local/cuda-9.2 /usr/local/cuda\n",
        "!stat cuda\n",
        "% cd '/content/drive/MyDrive/Università/Models/MolRNN'"
      ],
      "execution_count": null,
      "outputs": []
    },
    {
      "cell_type": "code",
      "metadata": {
        "id": "QD319lDvf6Xp"
      },
      "source": [
        "! conda install -c rdkit rdkit==2019.03.3.0 -y\n",
        "! pip install mxnet-cu92==1.3.1\n",
        "! pip install pandas==0.25.0 scipy==1.5.4 networkx==2.5.1 matplotlib==3.0.0 sklearn==0.0 lmdb==1.2.1 pymysql==1.0.2"
      ],
      "execution_count": null,
      "outputs": []
    },
    {
      "cell_type": "code",
      "metadata": {
        "id": "kH8y4HomiKSL"
      },
      "source": [
        "# Info on the OS and the cuda installed version\n",
        "! lsb_release -a\n",
        "! export PATH=/usr/local/cuda/bin${PATH:+:${PATH}}\n",
        "! export LD_LIBRARY_PATH=/usr/local/cuda/lib64\\${LD_LIBRARY_PATH:+:${LD_LIBRARY_PATH}}\n",
        "! /usr/local/cuda/bin/nvcc --version"
      ],
      "execution_count": null,
      "outputs": []
    },
    {
      "cell_type": "markdown",
      "metadata": {
        "id": "x2Fc8SfuK76B"
      },
      "source": [
        "## Code Execution"
      ]
    },
    {
      "cell_type": "code",
      "metadata": {
        "id": "qTjOe8_FK672",
        "colab": {
          "base_uri": "https://localhost:8080/",
          "height": 297
        },
        "outputId": "be955cc9-0c18-417e-a7b7-b01bd93200ae"
      },
      "source": [
        "# Import packages\n",
        "from train import engine, engine_cond\n",
        "from test import test_mol_rnn, test_cond_mol_rnn\n",
        "\n",
        "# Create and train the unconditional molRNN ======================================================================\n",
        "# params = {'checkpoint_dir': 'checkpoint/mol_rnn', 'is_full': False, 'num_folds': 5, 'fold_id': 0, 'batch_size': 64,\n",
        "#           'batch_size_test': 32, 'num_workers': 0, 'k': 5, 'p': 0.8, 'embedding_size': 16, 'hidden_sizes': [32, 64, 128, 128, 256, 256],\n",
        "#           'skip_layer_size': 256, 'dense_layer_sizes': [512], 'policy_layers_size': 128, 'rnn_layers': 3,\n",
        "#           'activation': 'relu', 'gpu_ids': [0], 'lr': 0.001, 'decay': 0.01, 'decay_step': 100, 'clip_grad': 3.0,\n",
        "#           'iterations': 9800, 'summary_step': 100, 'file_name': 'datasets/CHEMBL_FULL_DATASET.txt'}\n",
        "# engine(**params)\n",
        "# Test the unconditional molRNN\n",
        "test_mol_rnn(checkpoint_folder='checkpoint/mol_rnn', num_samples=1000, visualize_samples=12, img_name='image000',\n",
        "             molecules_per_row=3, plot=True)\n",
        "\n",
        "# # Create and train the molRNN conditioned on SA and QED properties ================================================\n",
        "# params = {'cond_type': 'prop', 'checkpoint_dir': 'checkpoint/cp_mol_rnn', 'is_full': False, 'num_folds': 5,\n",
        "#           'fold_id': 0, 'batch_size': 64, 'batch_size_test': 32, 'num_workers': 0, 'k': 5, 'p': 0.8, 'embedding_size': 16, \n",
        "#           'hidden_sizes': [32, 64, 128, 128, 256, 256], 'skip_layer_size': 256, 'dense_layer_sizes': [512], 'policy_layers_size': 128, \n",
        "#           'rnn_layers': 3, 'num_scaffolds': 0, 'activation': 'relu', 'gpu_ids': [0],\n",
        "#           'lr': 0.001, 'decay': 0.01, 'decay_step': 100, 'clip_grad': 3.0, 'iterations': 40, 'summary_step': 20,\n",
        "#           'file_name': 'datasets/ChEMBL_prop.txt'}\n",
        "# engine_cond(**params)\n",
        "# # Test the molRNN conditioned on SA and QED properties\n",
        "# c = [[0.84, 1.9],\n",
        "#      [0.27, 2.5],\n",
        "#      [0.84, 3.8],\n",
        "#      [0.27, 4.8]]\n",
        "# test_cond_mol_rnn(c, checkpoint_folder='checkpoint/cp_mol_rnn/', num_samples=1000, visualize_samples=12,\n",
        "#                   img_name='cp_image00', molecules_per_row=4, plot=True, legend='prop')\n",
        "\n",
        "# # Create and train the molRNN conditioned on measured activity towards molecules ===================================\n",
        "# params = {'cond_type': 'kinase', 'checkpoint_dir': 'checkpoint/ck_mol_rnn', 'is_full': False, 'num_folds': 5,\n",
        "#           'fold_id': 0, 'batch_size': 64, 'batch_size_test': 32, 'num_workers': 0, 'k': 5, 'p': 0.8, 'embedding_size': 16, \n",
        "#           'hidden_sizes': [32, 64, 128, 128, 256, 256], 'skip_layer_size': 256, 'dense_layer_sizes': [512], 'policy_layers_size': 128,\n",
        "#           'rnn_layers': 3, 'num_scaffolds': 0, 'activation': 'relu', 'gpu_ids': [0],\n",
        "#           'lr': 0.001, 'decay': 0.01, 'decay_step': 100, 'clip_grad': 3.0, 'iterations': 400, 'summary_step': 20,\n",
        "#           'file_name': 'datasets/ChEMBL_k.txt'}\n",
        "# engine_cond(**params)\n",
        "# # Test the molRNN conditioned on measured activity towards molecules\n",
        "# c = [[1, 1],  # GSK-3b(+) & JNK3(+)\n",
        "#      [1, 0],  # GSK-3b(+) & JNK3(-)\n",
        "#      [0, 1]]  # GSK-3b(-) & JNK3(+)\n",
        "# test_cond_mol_rnn(c, checkpoint_folder='checkpoint/ck_mol_rnn/', num_samples=100, visualize_samples=12,\n",
        "#                   img_name='ck_image00', molecules_per_row=4, plot=True)\n"
      ],
      "execution_count": null,
      "outputs": [
        {
          "output_type": "display_data",
          "data": {
            "image/png": "[encoded data removed]",
            "text/plain": [
              "<Figure size 432x288 with 1 Axes>"
            ]
          },
          "metadata": {
            "tags": [],
            "needs_background": "light"
          }
        }
      ]
    },
    {
      "cell_type": "markdown",
      "metadata": {
        "id": "W1FTnpoQOPzF"
      },
      "source": [
        "## Create Vocabulary"
      ]
    },
    {
      "cell_type": "code",
      "metadata": {
        "id": "oNjrfthJuOYC"
      },
      "source": [
        "from rdkit import Chem\n",
        "\n",
        "##read dataset\n",
        "with open('datasets/CHEMBL_FULL_DATASET.txt') as f:\n",
        "    smiles_data = f.readlines()\n",
        "smiles_data = [x.strip() for x in smiles_data] \n",
        "\n",
        "##create atom types\n",
        "def get_atom_type(atom):\n",
        "    atom_symbol = atom.GetSymbol()\n",
        "    atom_charge = atom.GetFormalCharge()\n",
        "    atom_hs = atom.GetNumExplicitHs()\n",
        "    return (atom_symbol, atom_charge, atom_hs)\n",
        "\n",
        "s = set()\n",
        "for count, smiles in enumerate(smiles_data):\n",
        "  if count % 1000 == 0:\n",
        "    print(count)\n",
        "  mol = Chem.MolFromSmiles(smiles)\n",
        "  if mol!=None:\n",
        "    atoms = mol.GetAtoms()\n",
        "    for at in atoms:\n",
        "      s.add(get_atom_type(at))\n",
        "\n",
        "##save to file\n",
        "with open('atom_types.txt', 'w') as f:\n",
        "    for item in s:\n",
        "        f.write(\"%s,%d,%d\\n\" % item)"
      ],
      "execution_count": null,
      "outputs": []
    },
    {
      "cell_type": "code",
      "metadata": {
        "id": "SN5TmR-rMK_x"
      },
      "source": [
        "# Remove duplicate lines in a txt files\n",
        "def remove_duplicate_lines(source):\n",
        "  unique_lines = set(open(source).readlines())\n",
        "  new_file = open(source, 'w')\n",
        "  new_file.writelines(set(unique_lines))\n",
        "  new_file.close()\n",
        "\n",
        "remove_duplicate_lines('datasets/atom_types.txt')"
      ],
      "execution_count": null,
      "outputs": []
    }
  ]
}