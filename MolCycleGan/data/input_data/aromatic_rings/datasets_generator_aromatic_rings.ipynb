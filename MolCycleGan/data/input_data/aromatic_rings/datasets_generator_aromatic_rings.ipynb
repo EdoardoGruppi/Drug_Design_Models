{
 "cells": [
  {
   "cell_type": "code",
   "execution_count": 1,
   "metadata": {},
   "outputs": [],
   "source": [
    "import pandas as pd\n",
    "import seaborn as sns\n",
    "import numpy as np\n",
    "import tensorflow as tf\n",
    "import scipy\n",
    "import pybel\n",
    "import sys\n",
    "\n",
    "from rdkit import Chem\n",
    "from rdkit.Chem.Lipinski import NumAromaticRings\n",
    "from rdkit.Chem import PandasTools\n",
    "\n",
    "import matplotlib.pyplot as plt\n",
    "\n",
    "%matplotlib inline"
   ]
  },
  {
   "cell_type": "markdown",
   "metadata": {},
   "source": [
    "# Notebook with datasets generator for aromatic rings experiments"
   ]
  },
  {
   "cell_type": "markdown",
   "metadata": {},
   "source": [
    "In this notebook one can prepare train and test datasets for Mol-CycleGAN experiments, for the following datasets:\n",
    "\n",
    "1. Dataset A - molecules with 2 aromatic rings\n",
    "2. Dataset B - molecules with 1 or 3 aromatic rings"
   ]
  },
  {
   "cell_type": "code",
   "execution_count": null,
   "metadata": {},
   "outputs": [],
   "source": []
  },
  {
   "cell_type": "markdown",
   "metadata": {},
   "source": [
    "## Read ZINC dataset and calculate number of aromatic rings for every molecule"
   ]
  },
  {
   "cell_type": "code",
   "execution_count": 2,
   "metadata": {},
   "outputs": [],
   "source": [
    "def calculate_number_of_aromatic_rings(smiles):\n",
    "    mol = Chem.MolFromSmiles(smiles)\n",
    "    return NumAromaticRings(mol)\n",
    "\n",
    "\n",
    "def create_dataset_with_function(path, function, new_col_name):\n",
    "    df = pd.read_csv(path)\n",
    "    print(\"df shape: {}\".format(df.shape))\n",
    "    \n",
    "    df.dropna(inplace=True)\n",
    "    df.drop_duplicates(subset='smiles', inplace=True)\n",
    "    print(\"df shape after dropping nans and duplicates: {}\".format(df.shape))\n",
    "    \n",
    "    df[new_col_name] = df['smiles'].apply(function)\n",
    "    \n",
    "    df.dropna(inplace=True)\n",
    "    print(\"df shape after applying function: {}\".format(df.shape))\n",
    "    \n",
    "    df = df[['smiles', new_col_name]].set_index('smiles')\n",
    "    \n",
    "    print(\"Final df shape: {}\".format(df.shape))\n",
    "          \n",
    "    return df"
   ]
  },
  {
   "cell_type": "code",
   "execution_count": 3,
   "metadata": {},
   "outputs": [],
   "source": [
    "X_JTVAE = pd.read_csv('../X_JTVAE_250k_rndm_zinc.csv', index_col=0)"
   ]
  },
  {
   "cell_type": "code",
   "execution_count": 4,
   "metadata": {},
   "outputs": [
    {
     "name": "stdout",
     "output_type": "stream",
     "text": [
      "df shape: (249455, 4)\n",
      "df shape after dropping nans and duplicates: (249455, 4)\n",
      "df shape after applying function: (249455, 5)\n",
      "Final df shape: (249455, 1)\n",
      "Number of molecules in the ZINC dataset: 249455\n"
     ]
    }
   ],
   "source": [
    "df = create_dataset_with_function(path='../250k_rndm_zinc_drugs_clean_3_canonized.csv', \n",
    "                                  function=calculate_number_of_aromatic_rings, \n",
    "                                  new_col_name='aromatic_rings')\n",
    "\n",
    "print(\"Number of molecules in the ZINC dataset: %d\" % df.shape[0])"
   ]
  },
  {
   "cell_type": "code",
   "execution_count": null,
   "metadata": {},
   "outputs": [],
   "source": []
  },
  {
   "cell_type": "markdown",
   "metadata": {},
   "source": [
    "## Plot aromatic rings distribution in the ZINC dataset"
   ]
  },
  {
   "cell_type": "code",
   "execution_count": 5,
   "metadata": {},
   "outputs": [
    {
     "data": {
      "text/plain": [
       "(0, 0.5)"
      ]
     },
     "execution_count": 5,
     "metadata": {},
     "output_type": "execute_result"
    },
    {
     "data": {
      "image/png": "[encoded data removed]",
      "text/plain": [
       "<Figure size 1440x720 with 1 Axes>"
      ]
     },
     "metadata": {
      "needs_background": "light"
     },
     "output_type": "display_data"
    }
   ],
   "source": [
    "smiles = df['aromatic_rings'].values\n",
    "ar_counts = np.bincount(smiles) / float(len(smiles))\n",
    "\n",
    "plt.figure(figsize=(20,10))\n",
    "plt.rcParams.update({'font.size': 22})\n",
    "plt.title('Fraction of aromatic rings in ZINC dataset')\n",
    "plt.bar(range(7), ar_counts)\n",
    "plt.ylim((0, 0.5))"
   ]
  },
  {
   "cell_type": "code",
   "execution_count": null,
   "metadata": {},
   "outputs": [],
   "source": []
  },
  {
   "cell_type": "markdown",
   "metadata": {},
   "source": [
    "## Create train and test datasets\n",
    "1. set A = molecules with 2 aromatic rings\n",
    "2. set B = molecules with 1 or 3 aromatic rings"
   ]
  },
  {
   "cell_type": "code",
   "execution_count": 6,
   "metadata": {},
   "outputs": [
    {
     "name": "stdout",
     "output_type": "stream",
     "text": [
      "Number of molecules with 1/2/3 aromatic rings: 221413\n"
     ]
    }
   ],
   "source": [
    "# Take only mols with 1,2,3 aromatic rings\n",
    "mols_to_stay = np.logical_or.reduce((df['aromatic_rings'].values == 1, df['aromatic_rings'].values == 2, df['aromatic_rings'].values == 3))\n",
    "df_experiment = df.iloc[mols_to_stay]\n",
    "print(\"Number of molecules with 1/2/3 aromatic rings: %d\" % df_experiment.shape[0])"
   ]
  },
  {
   "cell_type": "code",
   "execution_count": 7,
   "metadata": {},
   "outputs": [
    {
     "name": "stdout",
     "output_type": "stream",
     "text": [
      "Number of molecules in dataset A: 98220\n",
      "Number of molecules in dataset B: 123193\n"
     ]
    }
   ],
   "source": [
    "# Split molecules into dataset A and B\n",
    "A_indices = df_experiment['aromatic_rings'].values == 2\n",
    "\n",
    "df_A = df_experiment.iloc[A_indices]\n",
    "df_B = df_experiment.iloc[~A_indices]\n",
    "\n",
    "print(\"Number of molecules in dataset A: %d\" % df_A.shape[0])\n",
    "print(\"Number of molecules in dataset B: %d\" % df_B.shape[0])"
   ]
  },
  {
   "cell_type": "code",
   "execution_count": 8,
   "metadata": {},
   "outputs": [],
   "source": [
    "# Sanity check of datasets\n",
    "assert set(df_A['aromatic_rings'].values) == set([2])\n",
    "assert set(df_B['aromatic_rings'].values) == set([1,3])"
   ]
  },
  {
   "cell_type": "code",
   "execution_count": 9,
   "metadata": {},
   "outputs": [
    {
     "name": "stdout",
     "output_type": "stream",
     "text": [
      "Number of molecules in dataset train_A: 80000\n",
      "Number of molecules in dataset test_A: 18220\n",
      "Number of molecules in dataset train_B: 80000\n",
      "Number of molecules in dataset test_B: 43193\n"
     ]
    }
   ],
   "source": [
    "# Split datasets into train and test datasets.\n",
    "train_size = 80000\n",
    "\n",
    "# split set A to train/test\n",
    "train_sample_A = np.zeros(df_A.shape[0], dtype=bool)\n",
    "train_sample_A[np.random.choice(df_A.shape[0], train_size, replace=False)] = True\n",
    "\n",
    "df_train_A = df_A.iloc[train_sample_A]\n",
    "df_test_A = df_A.iloc[~train_sample_A]\n",
    "print(\"Number of molecules in dataset train_A: %d\" % df_train_A.shape[0])\n",
    "print(\"Number of molecules in dataset test_A: %d\" % df_test_A.shape[0])\n",
    "\n",
    "# split set B to train/test\n",
    "train_sample_B = np.zeros(df_B.shape[0], dtype=bool)\n",
    "train_sample_B[np.random.choice(df_B.shape[0], train_size, replace=False)] = True\n",
    "\n",
    "df_train_B = df_B.iloc[train_sample_B]\n",
    "df_test_B = df_B.iloc[~train_sample_B]\n",
    "print(\"Number of molecules in dataset train_B: %d\" % df_train_B.shape[0])\n",
    "print(\"Number of molecules in dataset test_B: %d\" % df_test_B.shape[0])"
   ]
  },
  {
   "cell_type": "code",
   "execution_count": null,
   "metadata": {},
   "outputs": [],
   "source": []
  },
  {
   "cell_type": "markdown",
   "metadata": {},
   "source": [
    "## Plot aromatic rings distribution in train and test datasets"
   ]
  },
  {
   "cell_type": "code",
   "execution_count": 10,
   "metadata": {},
   "outputs": [
    {
     "data": {
      "text/plain": [
       "<matplotlib.legend.Legend at 0x7fec73abfbd0>"
      ]
     },
     "execution_count": 10,
     "metadata": {},
     "output_type": "execute_result"
    },
    {
     "data": {
      "image/png": "[encoded data removed]",
      "text/plain": [
       "<Figure size 1440x720 with 1 Axes>"
      ]
     },
     "metadata": {
      "needs_background": "light"
     },
     "output_type": "display_data"
    }
   ],
   "source": [
    "df_counts = np.bincount(df['aromatic_rings'].values) / float(len(df['aromatic_rings'].values))\n",
    "df_A_counts = np.bincount(df_A['aromatic_rings'].values) / float(len(df_A['aromatic_rings'].values))\n",
    "df_B_counts = np.bincount(df_B['aromatic_rings'].values) / float(len(df_B['aromatic_rings'].values))\n",
    "\n",
    "plt.figure(figsize=(20,10))\n",
    "plt.rcParams.update({'font.size': 35})\n",
    "\n",
    "ax = plt.subplot(111)\n",
    "ax.bar(np.arange(7)-0.1, df_counts, width=0.2, label='ZINC-250k')\n",
    "ax.bar(np.arange(7)+0.1, np.concatenate([df_A_counts, np.repeat(0., 4)]), width=0.2, label='A')\n",
    "ax.bar(np.arange(7)+0.1, np.concatenate([df_B_counts, np.repeat(0., 3)]), width=0.2, label='B')\n",
    "\n",
    "plt.ylim((0, 1.05))\n",
    "\n",
    "plt.ylabel('Fraction of molecules')\n",
    "plt.xlabel('Number of aromatic rings')\n",
    "\n",
    "plt.legend()"
   ]
  },
  {
   "cell_type": "code",
   "execution_count": null,
   "metadata": {},
   "outputs": [],
   "source": []
  },
  {
   "cell_type": "markdown",
   "metadata": {},
   "source": [
    "## Save datasets"
   ]
  },
  {
   "cell_type": "code",
   "execution_count": 11,
   "metadata": {},
   "outputs": [
    {
     "name": "stdout",
     "output_type": "stream",
     "text": [
      "((80000, 56), (18220, 56), (80000, 56), (43193, 56))\n"
     ]
    }
   ],
   "source": [
    "X_JTVAE_zinc_train_A = X_JTVAE.loc[df_train_A.index]\n",
    "X_JTVAE_zinc_test_A = X_JTVAE.loc[df_test_A.index]\n",
    "\n",
    "X_JTVAE_zinc_train_B = X_JTVAE.loc[df_train_B.index]\n",
    "X_JTVAE_zinc_test_B = X_JTVAE.loc[df_test_B.index]\n",
    "\n",
    "print(X_JTVAE_zinc_train_A.shape, X_JTVAE_zinc_test_A.shape, \n",
    "      X_JTVAE_zinc_train_B.shape, X_JTVAE_zinc_test_B.shape)"
   ]
  },
  {
   "cell_type": "code",
   "execution_count": 12,
   "metadata": {},
   "outputs": [],
   "source": [
    "X_JTVAE_zinc_train_A.to_csv('X_JTVAE_zinc_train_A.csv')\n",
    "X_JTVAE_zinc_test_A.to_csv('X_JTVAE_zinc_test_A.csv')\n",
    "X_JTVAE_zinc_train_B.to_csv('X_JTVAE_zinc_train_B.csv')\n",
    "X_JTVAE_zinc_test_B.to_csv('X_JTVAE_zinc_test_B.csv')"
   ]
  },
  {
   "cell_type": "code",
   "execution_count": null,
   "metadata": {},
   "outputs": [],
   "source": []
  },
  {
   "cell_type": "code",
   "execution_count": null,
   "metadata": {},
   "outputs": [],
   "source": []
  }
 ],
 "metadata": {
  "kernelspec": {
   "display_name": "Python 2",
   "language": "python",
   "name": "python2"
  },
  "language_info": {
   "codemirror_mode": {
    "name": "ipython",
    "version": 2
   },
   "file_extension": ".py",
   "mimetype": "text/x-python",
   "name": "python",
   "nbconvert_exporter": "python",
   "pygments_lexer": "ipython2",
   "version": "2.7.15"
  }
 },
 "nbformat": 4,
 "nbformat_minor": 2
}
