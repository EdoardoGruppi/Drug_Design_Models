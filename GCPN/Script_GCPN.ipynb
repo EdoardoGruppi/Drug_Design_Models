{
  "nbformat": 4,
  "nbformat_minor": 0,
  "metadata": {
    "colab": {
      "name": "Script GCPN",
      "provenance": [],
      "collapsed_sections": []
    },
    "kernelspec": {
      "name": "python3",
      "display_name": "Python 3"
    }
  },
  "cells": [
    {
      "cell_type": "markdown",
      "metadata": {
        "id": "W7W_WbLoH1Z_"
      },
      "source": [
        "## Drive Loading..."
      ]
    },
    {
      "cell_type": "code",
      "metadata": {
        "id": "K5wFWddJGEMM"
      },
      "source": [
        "from google.colab import drive\n",
        "drive.mount(\"/content/drive\")\n",
        "% cd '/content/drive/MyDrive/Università/Models/GCPN'\n",
        "! ls\n",
        "! nvidia-smi"
      ],
      "execution_count": null,
      "outputs": []
    },
    {
      "cell_type": "markdown",
      "metadata": {
        "id": "pGO589y9H6zX"
      },
      "source": [
        "## Environment Setup"
      ]
    },
    {
      "cell_type": "code",
      "metadata": {
        "id": "uyfFc8VufUyl"
      },
      "source": [
        "################################################################################\n",
        "# INSTALL CONDA ON GOOGLE COLAB\n",
        "################################################################################\n",
        "import os\n",
        "import sys\n",
        "# Change conda installation name ################################################\n",
        "if not os.path.exists('Miniconda3-py37_4.8.2-Linux-x86_64.sh'):\n",
        "    ! wget https://repo.anaconda.com/miniconda/Miniconda3-py37_4.8.2-Linux-x86_64.sh\n",
        "! chmod +x Miniconda3-py37_4.8.2-Linux-x86_64.sh\n",
        "! bash ./Miniconda3-py37_4.8.2-Linux-x86_64.sh -b -f -p /usr/local\n",
        "# Change python version #########################################################\n",
        "sys.path.append('/usr/local/lib/python3.7/site-packages/')\n",
        "! python --version\n",
        "# Add channels\n",
        "! conda config --add channels conda-forge \n",
        "! conda config --add channels anaconda \n",
        "! conda config --add channels rdkit \n",
        "! conda config --show channels"
      ],
      "execution_count": null,
      "outputs": []
    },
    {
      "cell_type": "code",
      "metadata": {
        "id": "VDEk2RognMkb"
      },
      "source": [
        "import os, sys\n",
        "! conda install -c conda-forge mpi4py==3.0.3 -y\n",
        "import shutil\n",
        "shutil.rmtree('/usr/local/lib/python3.7/dist-packages/networkx')\n",
        "! conda install -c anaconda networkx==1.11 -y\n",
        "import networkx as nx\n",
        "print(nx.__version__)\n",
        "% cd '/content/drive/MyDrive/Università/Models/GCPN/rl-baselines'\n",
        "! pip install -e.\n",
        "sys.path.append(os.getcwd())\n",
        "% cd '/content/drive/MyDrive/Università/Models/GCPN/gym-molecule'\n",
        "! pip install -e.\n",
        "sys.path.append(os.getcwd())\n",
        "% cd '/content/drive/MyDrive/Università/Models/GCPN'\n",
        "! pip install matplotlib==3.4.2 tensorboardX==2.2\n",
        "! conda install -c rdkit rdkit==2020.09.1.0 -y"
      ],
      "execution_count": null,
      "outputs": []
    },
    {
      "cell_type": "markdown",
      "metadata": {
        "id": "x2Fc8SfuK76B"
      },
      "source": [
        "## Code Execution"
      ]
    },
    {
      "cell_type": "code",
      "metadata": {
        "id": "MhzMn3Jn6zz5"
      },
      "source": [
        "# Import packages\n",
        "from mpi4py import MPI\n",
        "from baselines.common import set_global_seeds\n",
        "from baselines import logger\n",
        "from tensorboardX import SummaryWriter\n",
        "import os\n",
        "import tensorflow as tf\n",
        "from argparse import Namespace\n",
        "import gym\n",
        "from gym_molecule.envs.molecule import GraphEnv\n",
        "\n",
        "# set_memory_growth() allocates exclusively the GPU memory needed\n",
        "physical_devices = tf.config.experimental.list_physical_devices('GPU')\n",
        "print(\"Num GPUs Available: \", len(physical_devices))\n",
        "if len(physical_devices) is not 0:\n",
        "    tf.config.experimental.set_memory_growth(physical_devices[0], True)\n",
        "\n",
        "\n",
        "def train(args, seed, writer=None):\n",
        "    from baselines.ppo1 import pposgd_simple_gcn, gcn_policy\n",
        "    import baselines.common.tf_util as U\n",
        "    rank = MPI.COMM_WORLD.Get_rank()\n",
        "    sess = U.single_threaded_session()\n",
        "    sess.__enter__()\n",
        "    if rank == 0:\n",
        "        logger.configure()\n",
        "    else:\n",
        "        logger.configure(format_strs=[])\n",
        "    workerseed = seed + 10000 * MPI.COMM_WORLD.Get_rank()\n",
        "    set_global_seeds(workerseed)\n",
        "    if args.env == 'molecule':\n",
        "        env = gym.make('molecule-v0')\n",
        "        env.init(data_type=args.dataset, logp_ratio=args.logp_ratio, qed_ratio=args.qed_ratio, sa_ratio=args.sa_ratio,\n",
        "                 reward_step_total=args.reward_step_total, is_normalize=args.normalize_adj,\n",
        "                 reward_type=args.reward_type, reward_target=args.reward_target, has_feature=bool(args.has_feature),\n",
        "                 is_conditional=bool(args.is_conditional), conditional=args.conditional, max_action=args.max_action,\n",
        "                 min_action=args.min_action)\n",
        "    elif args.env == 'graph':\n",
        "        env = GraphEnv()\n",
        "        env.init(reward_step_total=args.reward_step_total, is_normalize=args.normalize_adj, dataset=args.dataset)\n",
        "    print(env.observation_space)\n",
        "\n",
        "    def policy_fn(name, ob_space, ac_space):\n",
        "        return gcn_policy.GCNPolicy(name=name, ob_space=ob_space, ac_space=ac_space, atom_type_num=env.atom_type_num,\n",
        "                                    args=args)\n",
        "\n",
        "    env.seed(workerseed)\n",
        "    pposgd_simple_gcn.learn(args, env, policy_fn, max_timesteps=args.num_steps, timesteps_per_actorbatch=256,\n",
        "                            clip_param=0.2, entcoeff=0.01, optim_epochs=8, optim_stepsize=args.lr, optim_batchsize=32,\n",
        "                            gamma=1, lam=0.95, schedule='linear', writer=writer)\n",
        "    env.close()\n",
        "\n",
        "import shutil\n",
        "shutil.rmtree('runs')\n",
        "import os\n",
        "os.makedirs('runs')"
      ],
      "execution_count": null,
      "outputs": []
    },
    {
      "cell_type": "code",
      "metadata": {
        "id": "7Y60hWALF22V"
      },
      "source": [
        "# TRAIN MODEL\n",
        "# To start a new training session reset the runtime\n",
        "if __name__ == '__main__':\n",
        "    # List of arguments\n",
        "    args = {'bn': 0, 'conditional': 'low', 'curriculum': 0, 'curriculum_num': 6, 'curriculum_step': 200,\n",
        "            'dataset': 'zinc', 'dataset_load': 'zinc', 'emb_size': 128, 'env': 'molecule', 'expert_end': 1000000,\n",
        "            'expert_start': 0, 'gan_final_ratio': 1, 'gan_step_ratio': 1, 'gan_type': 'normal', 'gate_sum_d': 0,\n",
        "            'gcn_aggregate': 'mean', 'graph_emb': 0, 'has_concat': 0, 'has_d_final': 1, 'has_d_step': 1,\n",
        "            'has_feature': 0, 'has_ppo': 1, 'has_residual': 0, 'is_conditional': 0, 'layer_num_d': 3, 'layer_num_g': 3,\n",
        "            'load': 1, 'load_step': 1000000000000000, 'logp_ratio': 1, 'lr': 0.001, 'mask_null': 0, 'max_action': 128,\n",
        "            'min_action': 20, 'name': 'test_conditional', 'name_full': '', 'name_full_load': '',\n",
        "            'name_load': '0new_concatno_mean_layer3_expert1500', 'normalize_adj': 0, 'num_steps': 50000000,\n",
        "            'qed_ratio': 1, 'reward_step_total': 0.5, 'reward_target': 0.5, 'reward_type': 'logppen', 'rl_end': 1000000,\n",
        "            'rl_start': 250, 'sa_ratio': 1, 'save_every': 100, 'seed': 666, 'stop_shift': -3, 'supervise_time': 4}\n",
        "    args = Namespace(**args)\n",
        "    print(args)\n",
        "    args.name_full = args.env + '_' + args.dataset + '_' + args.name\n",
        "    args.name_full_load = args.env + '_' + args.dataset_load + '_' + args.name_load + '_' + str(args.load_step)\n",
        "    # check and clean\n",
        "    if not os.path.exists('molecule_gen'):\n",
        "        os.makedirs('molecule_gen')\n",
        "    if not os.path.exists('ckpt'):\n",
        "        os.makedirs('ckpt')\n",
        "\n",
        "    # only keep first worker result in tensorboard\n",
        "    if MPI.COMM_WORLD.Get_rank() == 0:\n",
        "        writer = SummaryWriter(comment='_' + args.dataset + '_' + args.name)\n",
        "    else:\n",
        "        writer = None\n",
        "    train(args, seed=args.seed, writer=writer)"
      ],
      "execution_count": null,
      "outputs": []
    },
    {
      "cell_type": "code",
      "metadata": {
        "id": "nzK3-TQTjsfe"
      },
      "source": [
        "# CONTINUE THE TRAINING OF THE MODEL\n",
        "if __name__ == '__main__':\n",
        "    # List of arguments\n",
        "    args = {'bn': 0, 'conditional': 'low', 'curriculum': 0, 'curriculum_num': 6, 'curriculum_step': 200,\n",
        "            'dataset': 'zinc', 'dataset_load': 'zinc', 'emb_size': 128, 'env': 'molecule', 'expert_end': 1000000,\n",
        "            'expert_start': 0, 'gan_final_ratio': 1, 'gan_step_ratio': 1, 'gan_type': 'normal', 'gate_sum_d': 0,\n",
        "            'gcn_aggregate': 'mean', 'graph_emb': 0, 'has_concat': 0, 'has_d_final': 1, 'has_d_step': 1,\n",
        "            'has_feature': 0, 'has_ppo': 1, 'has_residual': 0, 'is_conditional': 0, 'layer_num_d': 3, 'layer_num_g': 3,\n",
        "            'load': 1, 'load_step': 250, 'logp_ratio': 1, 'lr': 0.001, 'mask_null': 0, 'max_action': 128,\n",
        "            'min_action': 20, 'name': 'test_conditional', 'name_full': '', 'name_full_load': '',\n",
        "            'name_load': 'test_conditional', 'normalize_adj': 0, 'num_steps': 50000000,\n",
        "            'qed_ratio': 1, 'reward_step_total': 0.5, 'reward_target': 0.5, 'reward_type': 'logppen', 'rl_end': 1000000,\n",
        "            'rl_start': 250, 'sa_ratio': 1, 'save_every': 100, 'seed': 666, 'stop_shift': -3, 'supervise_time': 4}\n",
        "    # -------------------------------------------------\n",
        "    # The step is foundamental to start the training from the correct point\n",
        "    args['load_step'] = 14\n",
        "    # -------------------------------------------------\n",
        "    args = Namespace(**args)\n",
        "    print(args)\n",
        "    args.name_full = args.env + '_' + args.dataset + '_' + args.name\n",
        "    args.name_full_load = args.env + '_' + args.dataset_load + '_' + args.name_load + '_' + str(args.load_step)\n",
        "    # check and clean\n",
        "    if not os.path.exists('molecule_gen'):\n",
        "        os.makedirs('molecule_gen')\n",
        "    if not os.path.exists('ckpt'):\n",
        "        os.makedirs('ckpt')\n",
        "\n",
        "    # only keep first worker result in tensorboard\n",
        "    if MPI.COMM_WORLD.Get_rank() == 0:\n",
        "        writer = SummaryWriter(comment='_' + args.dataset + '_' + args.name)\n",
        "    else:\n",
        "        writer = None\n",
        "    train(args, seed=args.seed, writer=writer)"
      ],
      "execution_count": null,
      "outputs": []
    }
  ]
}